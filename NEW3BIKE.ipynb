{
 "cells": [
  {
   "cell_type": "code",
   "execution_count": 7,
   "id": "98f112db",
   "metadata": {},
   "outputs": [],
   "source": [
    "import pandas as pd\n",
    "import folium\n",
    "from folium.plugins import HeatMap\n",
    "import folium\n",
    "import folium.plugins as plugins"
   ]
  },
  {
   "cell_type": "code",
   "execution_count": 17,
   "id": "d79698de",
   "metadata": {},
   "outputs": [],
   "source": [
    "#THREE TYPE HEATMAP\n",
    "es=pd.read_csv(\"es.csv\")\n",
    "es=pd.DataFrame(es)\n",
    "ds=pd.read_csv(\"ds.csv\")\n",
    "ds=pd.DataFrame(ds)\n",
    "cs=pd.read_csv(\"cs.csv\")\n",
    "cs=pd.DataFrame(cs)\n",
    "ess = es[['X', 'Y', 'C']].values.tolist()\n",
    "dss = ds[['X', 'Y', 'C']].values.tolist()\n",
    "css = cs[['X', 'Y', 'C']].values.tolist()\n",
    "basemap = folium.Map([41.8781, -87.6298], zoom_start=12)    \n",
    "basemap.add_child(HeatMap(es))\n",
    "basemap.add_child(HeatMap(ds))\n",
    "basemap.add_child(HeatMap(cs))\n",
    "folium.LayerControl(collapsed=False).add_to(basemap)\n",
    "basemap.save(\"THREE_TYPE_HEATMAP.html\")"
   ]
  },
  {
   "cell_type": "code",
   "execution_count": 6,
   "id": "921e937c",
   "metadata": {},
   "outputs": [],
   "source": [
    "#EBIKE POINT\n",
    "latitude = 41.8781\n",
    "longitude = -87.6298\n",
    "incidents = folium.map.FeatureGroup()\n",
    "san_map = folium.Map(location=[latitude, longitude], zoom_start=12)\n",
    "for lat, lng, in zip(es['X'], es['Y']):\n",
    "    incidents.add_child(\n",
    "        folium.CircleMarker(\n",
    "            [lat, lng],\n",
    "            radius=5, # define how big you want the circle markers to be\n",
    "            color='yellow',\n",
    "            fill=True,\n",
    "            fill_color='red',\n",
    "            fill_opacity=0.4\n",
    "        )\n",
    "    )\n",
    "san_map.add_child(incidents)\n",
    "san_map.save(\"E-Point.html\")"
   ]
  },
  {
   "cell_type": "code",
   "execution_count": 7,
   "id": "5f9d37e8",
   "metadata": {},
   "outputs": [],
   "source": [
    "#DBIKE POINT\n",
    "latitude = 41.8781\n",
    "longitude = -87.6298\n",
    "incidents = folium.map.FeatureGroup()\n",
    "dmap = folium.Map(location=[latitude, longitude], zoom_start=12)\n",
    "for lat, lng, in zip(ds['X'], ds['Y']):\n",
    "    incidents.add_child(\n",
    "        folium.CircleMarker(\n",
    "            [lat, lng],\n",
    "            radius=5, # define how big you want the circle markers to be\n",
    "            color='yellow',\n",
    "            fill=True,\n",
    "            fill_color='red',\n",
    "            fill_opacity=0.4\n",
    "        )\n",
    "    )\n",
    "dmap.add_child(incidents)\n",
    "dmap.save(\"D-Point.html\")"
   ]
  },
  {
   "cell_type": "code",
   "execution_count": 8,
   "id": "800e8422",
   "metadata": {},
   "outputs": [],
   "source": [
    "#CBIKE POINT\n",
    "latitude = 41.8781\n",
    "longitude = -87.6298\n",
    "incidents = folium.map.FeatureGroup()\n",
    "cmap = folium.Map(location=[latitude, longitude], zoom_start=12)\n",
    "for lat, lng, in zip(cs['X'], cs['Y']):\n",
    "    incidents.add_child(\n",
    "        folium.CircleMarker(\n",
    "            [lat, lng],\n",
    "            radius=5, # define how big you want the circle markers to be\n",
    "            color='yellow',\n",
    "            fill=True,\n",
    "            fill_color='red',\n",
    "            fill_opacity=0.4\n",
    "        )\n",
    "    )\n",
    "cmap.add_child(incidents)\n",
    "cmap.save(\"C-Point.html\")"
   ]
  },
  {
   "cell_type": "code",
   "execution_count": 18,
   "id": "005aae06",
   "metadata": {},
   "outputs": [],
   "source": [
    "#EBIKE DENSITY\n",
    "edmap = folium.Map(location = [41.8781, -87.6298], zoom_start = 12)\n",
    "eincients = folium.plugins.MarkerCluster().add_to(edmap)\n",
    "for lat,lon,label in zip(es['X'], es['Y'], es['C']):    \n",
    "    folium.Marker(location=[lat,lon], icon=None, popup = label).add_to(eincients)    \n",
    "edmap.save(\"E-Density.html\")"
   ]
  },
  {
   "cell_type": "code",
   "execution_count": 19,
   "id": "0b5f9e68",
   "metadata": {},
   "outputs": [],
   "source": [
    "#DBIKE DENSITY\n",
    "ddmap = folium.Map(location = [41.8781, -87.6298], zoom_start = 12)\n",
    "dincients = folium.plugins.MarkerCluster().add_to(ddmap)\n",
    "for lat,lon,label in zip(ds['X'], ds['Y'], ds['C']):    \n",
    "    folium.Marker(location=[lat,lon], icon=None, popup = label).add_to(dincients)    \n",
    "ddmap.save(\"D-Density.html\")"
   ]
  },
  {
   "cell_type": "code",
   "execution_count": 22,
   "id": "d1dbc5f4",
   "metadata": {},
   "outputs": [],
   "source": [
    "#CBIKE DENSITY\n",
    "cdmap = folium.Map(location = [41.8781, -87.6298], zoom_start = 12)\n",
    "cincients = folium.plugins.MarkerCluster().add_to(cdmap)\n",
    "for lat,lon,label in zip(cs['X'], cs['Y'], cs['C']):    \n",
    "    folium.Marker(location=[lat,lon], icon=None, popup = label).add_to(cincients)    \n",
    "cdmap.save(\"C-Density.html\")"
   ]
  },
  {
   "cell_type": "code",
   "execution_count": 27,
   "id": "b98ddb59",
   "metadata": {},
   "outputs": [],
   "source": [
    "#DBIKE CALCULATE\n",
    "dcmap = folium.Map(location = [41.8781, -87.6298], zoom_start = 10, tiles = 'Stamen Toner')\n",
    "ddata = [tuple(x) for x in ds[['C', 'Y', 'X']].values]\n",
    "for cood in ddata:    \n",
    "    folium.Marker(location=[cood[2], cood[1]], popup = cood[0]).add_to(dcmap)    \n",
    "dcmap.add_child(folium.plugins.MeasureControl(position='topright'))    \n",
    "dcmap.save(\"D-Calculate.html\")"
   ]
  },
  {
   "cell_type": "code",
   "execution_count": null,
   "id": "b79d4937",
   "metadata": {},
   "outputs": [],
   "source": []
  }
 ],
 "metadata": {
  "kernelspec": {
   "display_name": "Python 3 (ipykernel)",
   "language": "python",
   "name": "python3"
  },
  "language_info": {
   "codemirror_mode": {
    "name": "ipython",
    "version": 3
   },
   "file_extension": ".py",
   "mimetype": "text/x-python",
   "name": "python",
   "nbconvert_exporter": "python",
   "pygments_lexer": "ipython3",
   "version": "3.8.12"
  }
 },
 "nbformat": 4,
 "nbformat_minor": 5
}
